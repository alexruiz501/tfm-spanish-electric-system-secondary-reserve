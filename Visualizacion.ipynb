{
 "cells": [
  {
   "cell_type": "markdown",
   "metadata": {},
   "source": [
    "# Visualización de los resultados del análisis."
   ]
  },
  {
   "cell_type": "markdown",
   "metadata": {},
   "source": [
    "### Importar datos."
   ]
  },
  {
   "cell_type": "markdown",
   "metadata": {},
   "source": [
    "Ejecutar script que lee todos los datos y prepara las estructuras de datos que visualizar.\n",
    "\n",
    "IMPORTANTE: En la línea que pone '%run procesado_datos.py' hay dos rutas a carpetas a continuación. La primera ruta debe sustituirse por la de la ubicación donde habéis descargado la carpeta 'informacion_procesada' y la segunda por la de la ubicación de 'informacion_centrales'. EL formato actual es de Windows, si usáis Windows mantened la misma estructura y aseguraos de que ponéis un espacio después del último backslash ('\\') de la última ruta. Si usais Linux poned la ruta típica de sistemas Unix \"/path/to/folder/\" (sin comillas) (creo que en Mac es igual pero no estoy seguro)."
   ]
  },
  {
   "cell_type": "markdown",
   "metadata": {},
   "source": [
    "He puesto los comentarios en inglés porque suelo hacerlo al escribir código, quizá no haya sido la mejor idea. ¡Si tenéis cualquier duda o algo no queda claro contactad conmigo!"
   ]
  },
  {
   "cell_type": "code",
   "execution_count": 1,
   "metadata": {},
   "outputs": [],
   "source": [
    "import plotly\n",
    "carpeta_imagenes = \"/home/alejandro/Documentos/Universidad/MII_2/TFM/Documento/Imagenes/\""
   ]
  },
  {
   "cell_type": "code",
   "execution_count": 2,
   "metadata": {},
   "outputs": [],
   "source": [
    "plotly.io.orca.config.executable = '/usr/bin/orca-1.2.1-x86_64.AppImage'"
   ]
  },
  {
   "cell_type": "code",
   "execution_count": 3,
   "metadata": {
    "ExecuteTime": {
     "end_time": "2020-05-29T10:29:29.442193Z",
     "start_time": "2020-05-29T10:27:38.088270Z"
    }
   },
   "outputs": [
    {
     "name": "stdout",
     "output_type": "stream",
     "text": [
      "Executing data processing script...\n",
      "\n",
      "Information folder is set as:\n",
      "/home/alejandro/Documentos/Universidad/MII_2/TFM/TrabajoConDatos/informacion_procesada/\n",
      "\n",
      "Unidad de Programacion data folder is set as:\n",
      "/home/alejandro/Documentos/Universidad/MII_2/TFM/TrabajoConDatos/info_descargada/informacion_centrales/\n",
      "\n",
      "Reading company affiliation information...\n",
      "Reading hourly power dataframe...\n",
      "Obtaining power margins dataframe...\n",
      "The power margins dataframe has been imported from memory. If you wish to compute it again please first erase the file \"tabla_margenes_potencia_up.csv\" from your information folder.\n",
      "The companies power margins dataframe has been imported from memory. If you wish to compute it again please first erase the file \"tabla_margenes_potencia_empresas.csv\" from your information folder.\n",
      "Reading hourly market data dataframe...\n",
      "Creating correlations table: |██████████████████████████████████████████████████| 100.0% Complete\n",
      "Creating correlations table: |██████████████████████████████████████████████████| 100.0% Complete\n",
      "Task completed successfully.\n"
     ]
    }
   ],
   "source": [
    "%load_ext autoreload\n",
    "%autoreload 2\n",
    "\n",
    "%run procesado_datos.py /home/alejandro/Documentos/Universidad/MII_2/TFM/TrabajoConDatos/informacion_procesada/ /home/alejandro/Documentos/Universidad/MII_2/TFM/TrabajoConDatos/info_descargada/informacion_centrales/ \n",
    "\n",
    "import plotly.graph_objects as go\n",
    "idx = pd.IndexSlice"
   ]
  },
  {
   "cell_type": "markdown",
   "metadata": {
    "ExecuteTime": {
     "end_time": "2020-04-08T09:45:00.488911Z",
     "start_time": "2020-04-08T09:45:00.485234Z"
    }
   },
   "source": [
    "## Visualizar serie temporal de estadísticas básica de empresas."
   ]
  },
  {
   "cell_type": "markdown",
   "metadata": {},
   "source": [
    "Introduce here the desired data to visualise. The date can contain year; year and month; or year, month and day."
   ]
  },
  {
   "cell_type": "code",
   "execution_count": 4,
   "metadata": {
    "ExecuteTime": {
     "end_time": "2020-05-29T10:29:43.603649Z",
     "start_time": "2020-05-29T10:29:43.573245Z"
    }
   },
   "outputs": [],
   "source": [
    "# Accepted formats: yyyy, yyyy/mm, yyyy/mm/dd\n",
    "date1 = '2014/01/01'  # First date of the period to visualise\n",
    "date2 = '2018/12/31'  # Last date of the period to visualise\n",
    "resolution = 'm'  # Resolution level in the dates (possible values = day:'d', week:'w', month:'m', year:'y')\n",
    "# When the resolution is smaller (longer time) than hours, the aggregating function is the SUM.\n",
    "# For example, if we choose day, then all data from hours in every day is added."
   ]
  },
  {
   "cell_type": "markdown",
   "metadata": {},
   "source": [
    "Companies or UPs to visualise. Possible values in the comment."
   ]
  },
  {
   "cell_type": "code",
   "execution_count": 5,
   "metadata": {
    "ExecuteTime": {
     "end_time": "2020-05-29T10:29:44.367054Z",
     "start_time": "2020-05-29T10:29:44.339909Z"
    }
   },
   "outputs": [],
   "source": [
    "UPs = centrales_en_empresa['IGNIS']"
   ]
  },
  {
   "cell_type": "markdown",
   "metadata": {},
   "source": [
    "To check all possible UPs, run the cell that contains the 'centrales_en_empresa' dictionary."
   ]
  },
  {
   "cell_type": "code",
   "execution_count": 6,
   "metadata": {
    "ExecuteTime": {
     "end_time": "2020-05-29T10:29:44.776965Z",
     "start_time": "2020-05-29T10:29:44.739982Z"
    }
   },
   "outputs": [
    {
     "data": {
      "text/plain": [
       "{'HC': ['ABO1', 'ABO2', 'CTJON1', 'CTJON3', 'HCHI', 'SRI3', 'SRI4', 'SRI5'],\n",
       " 'IBEG': ['ACE3',\n",
       "  'ARCOS1',\n",
       "  'ARCOS2',\n",
       "  'ARCOS3',\n",
       "  'CTN4',\n",
       "  'DUER',\n",
       "  'ESC6',\n",
       "  'GUA2',\n",
       "  'JUCA',\n",
       "  'LAD4',\n",
       "  'MUEL',\n",
       "  'SIL',\n",
       "  'STC4',\n",
       "  'TAJO'],\n",
       " 'NTG': ['ACE4',\n",
       "  'BES4',\n",
       "  'CTGN1',\n",
       "  'CTGN2',\n",
       "  'CTGN3',\n",
       "  'MALA1',\n",
       "  'MEI1',\n",
       "  'PALOS1',\n",
       "  'PALOS2',\n",
       "  'PALOS3',\n",
       "  'PBCN1',\n",
       "  'PBCN2',\n",
       "  'PVENT1',\n",
       "  'SAGU1',\n",
       "  'SAGU2',\n",
       "  'SAGU3',\n",
       "  'SBO3',\n",
       "  'SROQ1',\n",
       "  'UFGC',\n",
       "  'UFMI',\n",
       "  'UFTA'],\n",
       " 'EON': ['AGUG', 'ALG3', 'ECT3', 'VIES'],\n",
       " 'BZE': ['AMBIETA'],\n",
       " 'CEP': ['ARRU1', 'ARRU2', 'CAMGI20'],\n",
       " 'BBE': ['BAHIAB'],\n",
       " 'END': ['BES3',\n",
       "  'BES5',\n",
       "  'CCO3',\n",
       "  'COL4',\n",
       "  'COM4',\n",
       "  'COM5',\n",
       "  'EBRFEN',\n",
       "  'GDLQ',\n",
       "  'GDNA',\n",
       "  'GUIG',\n",
       "  'LIT1',\n",
       "  'LIT2',\n",
       "  'PGR1',\n",
       "  'PGR2',\n",
       "  'PGR3',\n",
       "  'PGR4',\n",
       "  'PGR5',\n",
       "  'SBEU',\n",
       "  'SLTG',\n",
       "  'SROQ2',\n",
       "  'TEES',\n",
       "  'TER1',\n",
       "  'TER2',\n",
       "  'TER3',\n",
       "  'TERE',\n",
       "  'TJEG'],\n",
       " 'AXPO': ['BRR1'],\n",
       " 'ACC': ['CHIPG', 'EBRACC1', 'EBRACC2', 'HEGEDGS'],\n",
       " 'EVM2': ['E1CEG', 'EAUSIN', 'EELEZU', 'EGEAMG', 'ETSANTO', 'EVALCAI'],\n",
       " 'IGNIS': ['ECT2', 'TIGBCL'],\n",
       " 'GDF': ['ESCCC1', 'ESCCC3'],\n",
       " 'SZR': ['EUW3VIL', 'PNN3', 'RUCBIO2'],\n",
       " 'ALP': ['GENGES3', 'GENGEST', 'PVENT2'],\n",
       " 'EVM': ['HFERRAT', 'HHITOIZ', 'HPCANAV', 'T1CEG', 'T2CEG']}"
      ]
     },
     "execution_count": 6,
     "metadata": {},
     "output_type": "execute_result"
    }
   ],
   "source": [
    "centrales_en_empresa"
   ]
  },
  {
   "cell_type": "code",
   "execution_count": 7,
   "metadata": {
    "ExecuteTime": {
     "end_time": "2020-05-29T10:29:44.973292Z",
     "start_time": "2020-05-29T10:29:44.930787Z"
    }
   },
   "outputs": [],
   "source": [
    "# ['HC','IBEG','NTG','EON','BZE','CEP','BBE','END','AXPO','ACC','EVM2','IGNIS','GDF','SZR','ALP','EVM']\n",
    "companies = ['ALP','EVM','IGNIS','AXPO']"
   ]
  },
  {
   "cell_type": "markdown",
   "metadata": {},
   "source": [
    "Combination of data to visualise:"
   ]
  },
  {
   "cell_type": "code",
   "execution_count": 8,
   "metadata": {
    "ExecuteTime": {
     "end_time": "2020-05-29T10:29:45.388128Z",
     "start_time": "2020-05-29T10:29:45.310912Z"
    }
   },
   "outputs": [],
   "source": [
    "planificaciones = ['P48']  # Power plannings to visualise (list of strings). Multiple values are possible.\n",
    "# Possible values: ['PVP','P48']\n",
    "\n",
    "bandas = ['Casada']  # BRS type to visualise (list of strings). Multiple values are possible.\n",
    "# Possible values: ['Casada','Ofertada']\n",
    "\n",
    "margenes = ['Superior','Inferior']  # Margin to visualise (list of strings). Multiple values are possible.\n",
    "# Possible values: ['Superior','Inferior']\n",
    "\n",
    "df_visualise = df_mw_imposibles_empresas.copy()  # Information to visualise.\n",
    "# Possible values:\n",
    "#    df_mw_imposibles_empresas:       Amount of impossible MWs\n",
    "#    df_horas_imposibles_empresas:    Number of hours with impossible MWs\n",
    "#    df_ben_extra_empresas:           Extra profit derived from impossible MWs\n",
    "#    df_mw_imposibles_centrales:      Amount of impossible MWs\n",
    "#    df_horas_imposibles_centrales:   Number of hours with impossible MWs\n",
    "#    df_ben_extra_centrales:          Extra profit derived from impossible MWs"
   ]
  },
  {
   "cell_type": "markdown",
   "metadata": {},
   "source": [
    "Run all cells with updated variables and then the next cell to show the graph."
   ]
  },
  {
   "cell_type": "code",
   "execution_count": 9,
   "metadata": {},
   "outputs": [
    {
     "ename": "NameError",
     "evalue": "name 'colores_prueba' is not defined",
     "output_type": "error",
     "traceback": [
      "\u001b[0;31m---------------------------------------------------------------------------\u001b[0m",
      "\u001b[0;31mNameError\u001b[0m                                 Traceback (most recent call last)",
      "\u001b[0;32m<ipython-input-9-16da7a9cda99>\u001b[0m in \u001b[0;36m<module>\u001b[0;34m\u001b[0m\n\u001b[1;32m     12\u001b[0m     \u001b[0;34m'#17becf'\u001b[0m   \u001b[0;31m# blue-teal\u001b[0m\u001b[0;34m\u001b[0m\u001b[0;34m\u001b[0m\u001b[0m\n\u001b[1;32m     13\u001b[0m ]\n\u001b[0;32m---> 14\u001b[0;31m \u001b[0mcolor_dict\u001b[0m \u001b[0;34m=\u001b[0m \u001b[0;34m{\u001b[0m\u001b[0mcompanies\u001b[0m\u001b[0;34m[\u001b[0m\u001b[0mi\u001b[0m\u001b[0;34m]\u001b[0m\u001b[0;34m:\u001b[0m\u001b[0mcolores_prueba\u001b[0m\u001b[0;34m[\u001b[0m\u001b[0mi\u001b[0m\u001b[0;34m]\u001b[0m \u001b[0;32mfor\u001b[0m \u001b[0mi\u001b[0m \u001b[0;32min\u001b[0m \u001b[0mrange\u001b[0m\u001b[0;34m(\u001b[0m\u001b[0;36m0\u001b[0m\u001b[0;34m,\u001b[0m\u001b[0;36m4\u001b[0m\u001b[0;34m)\u001b[0m\u001b[0;34m}\u001b[0m\u001b[0;34m\u001b[0m\u001b[0;34m\u001b[0m\u001b[0m\n\u001b[0m\u001b[1;32m     15\u001b[0m \u001b[0;34m\u001b[0m\u001b[0m\n\u001b[1;32m     16\u001b[0m \u001b[0;31m# Don't change this cell\u001b[0m\u001b[0;34m\u001b[0m\u001b[0;34m\u001b[0m\u001b[0;34m\u001b[0m\u001b[0m\n",
      "\u001b[0;32m<ipython-input-9-16da7a9cda99>\u001b[0m in \u001b[0;36m<dictcomp>\u001b[0;34m(.0)\u001b[0m\n\u001b[1;32m     12\u001b[0m     \u001b[0;34m'#17becf'\u001b[0m   \u001b[0;31m# blue-teal\u001b[0m\u001b[0;34m\u001b[0m\u001b[0;34m\u001b[0m\u001b[0m\n\u001b[1;32m     13\u001b[0m ]\n\u001b[0;32m---> 14\u001b[0;31m \u001b[0mcolor_dict\u001b[0m \u001b[0;34m=\u001b[0m \u001b[0;34m{\u001b[0m\u001b[0mcompanies\u001b[0m\u001b[0;34m[\u001b[0m\u001b[0mi\u001b[0m\u001b[0;34m]\u001b[0m\u001b[0;34m:\u001b[0m\u001b[0mcolores_prueba\u001b[0m\u001b[0;34m[\u001b[0m\u001b[0mi\u001b[0m\u001b[0;34m]\u001b[0m \u001b[0;32mfor\u001b[0m \u001b[0mi\u001b[0m \u001b[0;32min\u001b[0m \u001b[0mrange\u001b[0m\u001b[0;34m(\u001b[0m\u001b[0;36m0\u001b[0m\u001b[0;34m,\u001b[0m\u001b[0;36m4\u001b[0m\u001b[0;34m)\u001b[0m\u001b[0;34m}\u001b[0m\u001b[0;34m\u001b[0m\u001b[0;34m\u001b[0m\u001b[0m\n\u001b[0m\u001b[1;32m     15\u001b[0m \u001b[0;34m\u001b[0m\u001b[0m\n\u001b[1;32m     16\u001b[0m \u001b[0;31m# Don't change this cell\u001b[0m\u001b[0;34m\u001b[0m\u001b[0;34m\u001b[0m\u001b[0;34m\u001b[0m\u001b[0m\n",
      "\u001b[0;31mNameError\u001b[0m: name 'colores_prueba' is not defined"
     ]
    }
   ],
   "source": [
    "# Colors to use on the charts\n",
    "colores = [\n",
    "    '#1f77b4',  # muted blue\n",
    "    '#ff7f0e',  # safety orange\n",
    "    '#2ca02c',  # cooked asparagus green\n",
    "    '#d62728',  # brick red\n",
    "    '#9467bd',  # muted purple\n",
    "    '#8c564b',  # chestnut brown\n",
    "    '#e377c2',  # raspberry yogurt pink\n",
    "    '#7f7f7f',  # middle gray\n",
    "    '#bcbd22',  # curry yellow-green\n",
    "    '#17becf'   # blue-teal\n",
    "]\n",
    "color_dict = {companies[i]:colores_prueba[i] for i in range(0,4)}\n",
    "\n",
    "# Don't change this cell\n",
    "df_aux = df_visualise.loc[\n",
    "    date1:date2,\n",
    "    idx[companies, # choose 'companies' if it's a companies dataframe or 'UPs' if it's a UPs dataframe\n",
    "        planificaciones,\n",
    "        bandas,\n",
    "        margenes]\n",
    "].resample(resolution).sum()\n",
    "traces = []\n",
    "for column in df_aux.columns:\n",
    "    traces.append(\n",
    "        go.Scatter(x=df_aux.index,\n",
    "                   y=df_aux[column],\n",
    "                   name=(\n",
    "                       str(column[0]+\", \"+column[3]\n",
    "                           .replace(\"Superior\",'A subir')\n",
    "                           .replace(\"Inferior\",\"A bajar\"))\n",
    "                   ),\n",
    "                   line=dict(\n",
    "                       color=color_dict[column[0]], width=2,\n",
    "                       dash = column[3].replace(\"Superior\", \"solid\")\n",
    "                              .replace(\"Inferior\", \"dot\")\n",
    "                   ),\n",
    "        )\n",
    "    )\n",
    "layout = go.Layout(\n",
    "    margin=dict(l=20, r=20, t=20, b=20),\n",
    "    height=400,\n",
    "    width=700,\n",
    "    yaxis_title='Potencia infactible (MW*h)',\n",
    "    legend_yanchor=\"top\",\n",
    "    legend_y=0.9,\n",
    "    legend_xanchor=\"left\",\n",
    "    legend_x=0.1,\n",
    "    legend_title_text=\"Zonas de Regulación\"\n",
    ")\n",
    "fig = go.Figure(data=traces,layout=layout)\n",
    "fig.show()"
   ]
  },
  {
   "cell_type": "code",
   "execution_count": null,
   "metadata": {},
   "outputs": [],
   "source": []
  },
  {
   "cell_type": "code",
   "execution_count": null,
   "metadata": {},
   "outputs": [],
   "source": []
  },
  {
   "cell_type": "markdown",
   "metadata": {},
   "source": [
    "AXPO superior e inferior.\n",
    "IGNIS superior.\n",
    "ALP superior.\n",
    "EVM superior."
   ]
  },
  {
   "cell_type": "markdown",
   "metadata": {},
   "source": [
    "## Visualizar estacionalidad de las estadísticas básicas."
   ]
  },
  {
   "cell_type": "markdown",
   "metadata": {},
   "source": [
    "Similar to the previous visualisation but grouping by season. Change the attribute next to the x in the lambda function to group by different timeframes."
   ]
  },
  {
   "cell_type": "code",
   "execution_count": null,
   "metadata": {
    "ExecuteTime": {
     "end_time": "2020-05-29T10:24:54.801238Z",
     "start_time": "2020-05-29T10:24:52.758Z"
    }
   },
   "outputs": [],
   "source": [
    "df_aux = df_visualise.loc[date1:date2,idx[companies,planificaciones,bandas,margenes]].copy()\n",
    "df_aux = df_aux.groupby(by=(lambda x: x.weekday)).sum()  # Change the word next to the x\n",
    "# Possible values: hour, month, weekday\n",
    "traces=[]\n",
    "for column in df_aux.columns:\n",
    "    traces.append(\n",
    "        go.Scatter(x=df_aux.index,\n",
    "                   y=df_aux[column], \n",
    "                   name=str(column))\n",
    "    )\n",
    "fig = go.Figure(data=traces)\n",
    "fig.show()"
   ]
  },
  {
   "cell_type": "markdown",
   "metadata": {},
   "source": [
    "## Visualizar correlaciones"
   ]
  },
  {
   "cell_type": "code",
   "execution_count": null,
   "metadata": {
    "ExecuteTime": {
     "end_time": "2020-05-29T10:24:54.802559Z",
     "start_time": "2020-05-29T10:24:52.762Z"
    }
   },
   "outputs": [],
   "source": [
    "# Possible data (choose one or more): ['MW imposibles', 'Horas imposibles', 'Beneficios imposibles']\n",
    "estadisticas_centrales = ['MW imposibles', 'Horas imposibles', 'Beneficios imposibles']"
   ]
  },
  {
   "cell_type": "code",
   "execution_count": null,
   "metadata": {
    "ExecuteTime": {
     "end_time": "2020-05-29T10:24:54.803925Z",
     "start_time": "2020-05-29T10:24:52.771Z"
    }
   },
   "outputs": [],
   "source": [
    "# Possible market data (choose one or more): \n",
    "#   ['Energía utilizada de Regulación Secundaria bajar',\n",
    "#   'Energía utilizada de Regulación Secundaria subir',\n",
    "#   'Precio Banda de regulación secundaria',\n",
    "#   'Precio de los desvíos medidos a bajar',\n",
    "#   'Precio de los desvíos medidos a subir',\n",
    "#   'Precio de Regulación Secundaria bajar',\n",
    "#   'Precio de Regulación Secundaria subir',\n",
    "#   'Precio mercado SPOT Diario',\n",
    "#   'Requerimientos Banda de regulación secundaria a bajar',\n",
    "#   'Requerimientos Banda de regulación secundaria a subir']\n",
    "estadisticas_mercado = ['Energía utilizada de Regulación Secundaria bajar',\n",
    " 'Energía utilizada de Regulación Secundaria subir',\n",
    " 'Precio Banda de regulación secundaria',\n",
    " 'Precio de los desvíos medidos a bajar',\n",
    " 'Precio de los desvíos medidos a subir',\n",
    " 'Precio de Regulación Secundaria bajar',\n",
    " 'Precio de Regulación Secundaria subir',\n",
    " 'Precio mercado SPOT Diario',\n",
    " 'Requerimientos Banda de regulación secundaria a bajar',\n",
    " 'Requerimientos Banda de regulación secundaria a subir']"
   ]
  },
  {
   "cell_type": "markdown",
   "metadata": {},
   "source": [
    "### Companies data correlations"
   ]
  },
  {
   "cell_type": "code",
   "execution_count": null,
   "metadata": {
    "ExecuteTime": {
     "end_time": "2020-05-29T10:24:54.805190Z",
     "start_time": "2020-05-29T10:24:52.781Z"
    }
   },
   "outputs": [],
   "source": [
    "df_corr_empresas.loc[\n",
    "    idx[companies,planificaciones,bandas,margenes],\n",
    "    idx[estadisticas_centrales,estadisticas_mercado]\n",
    "]"
   ]
  },
  {
   "cell_type": "markdown",
   "metadata": {},
   "source": [
    "### Unidades de Programación data correlations"
   ]
  },
  {
   "cell_type": "code",
   "execution_count": null,
   "metadata": {
    "ExecuteTime": {
     "end_time": "2020-05-29T10:24:54.806386Z",
     "start_time": "2020-05-29T10:24:52.806Z"
    }
   },
   "outputs": [],
   "source": [
    "df_corr_centrales.loc[\n",
    "    idx[UPs,planificaciones,bandas,margenes],\n",
    "    idx[estadisticas_centrales,estadisticas_mercado]\n",
    "]"
   ]
  },
  {
   "cell_type": "code",
   "execution_count": null,
   "metadata": {
    "ExecuteTime": {
     "end_time": "2020-05-29T10:51:11.938199Z",
     "start_time": "2020-05-29T10:51:11.753798Z"
    }
   },
   "outputs": [],
   "source": [
    "pd.set_option(\"display.max_rows\", 100)\n",
    "pd.set_option(\"display.min_rows\", 50)\n",
    "df_potencias.loc[df_horas_imposibles_centrales.loc[:,idx[UPs,planificaciones,bandas,margenes]].any(axis=1),UPs]"
   ]
  },
  {
   "cell_type": "code",
   "execution_count": null,
   "metadata": {},
   "outputs": [],
   "source": []
  },
  {
   "cell_type": "markdown",
   "metadata": {},
   "source": [
    "## Visualización de abusos agregados en el tiempo"
   ]
  },
  {
   "cell_type": "code",
   "execution_count": null,
   "metadata": {
    "scrolled": true
   },
   "outputs": [],
   "source": [
    "info_sup = df_mw_imposibles_empresas.loc[:,idx[:,'P48','Ofertada','Superior']].sum()\n",
    "info_sup.index = info_sup.index.droplevel([1,2,3])\n",
    "info_inf = df_mw_imposibles_empresas.loc[:,idx[:,'P48','Ofertada','Inferior']].sum()\n",
    "info_inf.index = info_inf.index.droplevel([1,2,3])\n",
    "\n",
    "df_vis_mw_imp_emp = pd.DataFrame()\n",
    "df_vis_mw_imp_emp['A subir'] = info_sup\n",
    "df_vis_mw_imp_emp['A bajar'] = info_inf\n",
    "df_vis_mw_imp_emp['Total'] = df_vis_mw_imp_emp['A subir'] + df_vis_mw_imp_emp['A bajar']\n",
    "df_vis_mw_imp_emp.sort_values('Total',ascending=False,inplace=True)\n",
    "df_vis_mw_imp_emp = df_vis_mw_imp_emp.loc[df_vis_mw_imp_emp['Total'] > 1]\n",
    "\n",
    "traces = [\n",
    "    go.Bar(\n",
    "        x = df_vis_mw_imp_emp.index,\n",
    "        y = df_vis_mw_imp_emp['A subir'],\n",
    "        name = 'A subir',\n",
    "    ),\n",
    "    go.Bar(\n",
    "        x = df_vis_mw_imp_emp.index,\n",
    "        y = df_vis_mw_imp_emp['A bajar'],\n",
    "        name = 'A bajar',\n",
    "    ),\n",
    "    \n",
    "]\n",
    "layout = go.Layout(\n",
    "    barmode='stack',\n",
    "    yaxis_title='MW*h no factibles',\n",
    "    xaxis_title='Zona de regulación',\n",
    "    legend_yanchor=\"top\",\n",
    "    legend_y=0.9,\n",
    "    legend_xanchor=\"right\",\n",
    "    legend_x=0.9,\n",
    "    margin=dict(l=20, r=20, t=20, b=20),\n",
    "    height=400,\n",
    "    width=700,\n",
    ")\n",
    "\n",
    "fig = go.Figure(\n",
    "    data=traces,\n",
    "    layout=layout,\n",
    ")\n",
    "fig.show()"
   ]
  },
  {
   "cell_type": "markdown",
   "metadata": {},
   "source": [
    "# Visualización de imágenes definitivas para el TFM"
   ]
  },
  {
   "cell_type": "markdown",
   "metadata": {},
   "source": [
    "### Abusos agregados en el tiempo (p48 - casada)"
   ]
  },
  {
   "cell_type": "code",
   "execution_count": null,
   "metadata": {},
   "outputs": [],
   "source": [
    "info_sup = df_mw_imposibles_empresas.loc[:,idx[:,'P48','Casada','Superior']].sum()\n",
    "info_sup.index = info_sup.index.droplevel([1,2,3])\n",
    "info_inf = df_mw_imposibles_empresas.loc[:,idx[:,'P48','Casada','Inferior']].sum()\n",
    "info_inf.index = info_inf.index.droplevel([1,2,3])\n",
    "\n",
    "df_vis_mw_imp_emp = pd.DataFrame()\n",
    "df_vis_mw_imp_emp['A subir'] = info_sup\n",
    "df_vis_mw_imp_emp['A bajar'] = info_inf\n",
    "df_vis_mw_imp_emp['Total'] = df_vis_mw_imp_emp['A subir'] + df_vis_mw_imp_emp['A bajar']\n",
    "df_vis_mw_imp_emp.sort_values('Total',ascending=False,inplace=True)\n",
    "df_vis_mw_imp_emp = df_vis_mw_imp_emp.loc[df_vis_mw_imp_emp['Total'] > 1]\n",
    "\n",
    "traces = [\n",
    "    go.Bar(\n",
    "        x = df_vis_mw_imp_emp.index,\n",
    "        y = df_vis_mw_imp_emp['A subir'],\n",
    "        name = 'A subir',\n",
    "    ),\n",
    "    go.Bar(\n",
    "        x = df_vis_mw_imp_emp.index,\n",
    "        y = df_vis_mw_imp_emp['A bajar'],\n",
    "        name = 'A bajar',\n",
    "    ),\n",
    "    \n",
    "]\n",
    "layout = go.Layout(\n",
    "    barmode='stack',\n",
    "    yaxis_title='MW*h no factibles',\n",
    "    xaxis_title='Zona de regulación',\n",
    "    legend_yanchor=\"top\",\n",
    "    legend_y=0.9,\n",
    "    legend_xanchor=\"right\",\n",
    "    legend_x=0.9,\n",
    "    margin=dict(l=20, r=20, t=20, b=20),\n",
    "    height=400,\n",
    "    width=700,\n",
    ")\n",
    "\n",
    "fig = go.Figure(\n",
    "    data=traces,\n",
    "    layout=layout,\n",
    ")\n",
    "fig.write_image(carpeta_imagenes+\"empresas_mw_imp.pdf\")\n",
    "fig.show()"
   ]
  },
  {
   "cell_type": "markdown",
   "metadata": {},
   "source": [
    "### Evolución temporal de los abusos"
   ]
  },
  {
   "cell_type": "code",
   "execution_count": null,
   "metadata": {},
   "outputs": [],
   "source": [
    "# Colors to use on the charts\n",
    "colores = [\n",
    "    '#1f77b4',  # muted blue\n",
    "    '#ff7f0e',  # safety orange\n",
    "    '#2ca02c',  # cooked asparagus green\n",
    "    '#d62728',  # brick red\n",
    "    '#9467bd',  # muted purple\n",
    "    '#8c564b',  # chestnut brown\n",
    "    '#e377c2',  # raspberry yogurt pink\n",
    "    '#7f7f7f',  # middle gray\n",
    "    '#bcbd22',  # curry yellow-green\n",
    "    '#17becf'   # blue-teal\n",
    "]\n",
    "color_dict = {companies[i]:colores_prueba[i] for i in range(0,4)}\n",
    "\n",
    "# Don't change this cell\n",
    "df_aux = df_visualise.loc[\n",
    "    date1:date2,\n",
    "    idx[companies, # choose 'companies' if it's a companies dataframe or 'UPs' if it's a UPs dataframe\n",
    "        planificaciones,\n",
    "        bandas,\n",
    "        margenes]\n",
    "].resample(resolution).sum()\n",
    "\n",
    "df_aux = df_aux[[( 'AXPO', 'P48', 'Casada', 'Superior'),\n",
    "            ( 'AXPO', 'P48', 'Casada', 'Inferior'),\n",
    "            ('IGNIS', 'P48', 'Casada', 'Superior'),\n",
    "            (  'ALP', 'P48', 'Casada', 'Superior'),\n",
    "            (  'EVM', 'P48', 'Casada', 'Superior'),]]/1000\n",
    "\n",
    "traces = []\n",
    "for column in df_aux.columns:\n",
    "    traces.append(\n",
    "        go.Scatter(x=df_aux.index,\n",
    "                   y=df_aux[column],\n",
    "                   name=(\n",
    "                       str(column[0]+\", \"+column[3]\n",
    "                           .replace(\"Superior\",'A subir')\n",
    "                           .replace(\"Inferior\",\"A bajar\"))\n",
    "                   ),\n",
    "                   line=dict(\n",
    "                       color=color_dict[column[0]], width=2,\n",
    "                       dash = column[3].replace(\"Superior\", \"solid\")\n",
    "                              .replace(\"Inferior\", \"dot\")\n",
    "                   ),\n",
    "        )\n",
    "    )\n",
    "layout = go.Layout(\n",
    "    margin=dict(l=20, r=20, t=20, b=20),\n",
    "    height=400,\n",
    "    width=700,\n",
    "    yaxis_title='Potencia infactible (10³ MW*h)',\n",
    "    legend_yanchor=\"top\",\n",
    "    legend_y=0.9,\n",
    "    legend_xanchor=\"left\",\n",
    "    legend_x=0.1,\n",
    "    legend_title_text=\"Zonas de Regulación\"\n",
    ")\n",
    "fig = go.Figure(data=traces,layout=layout)\n",
    "fig.show()\n",
    "fig.write_image(carpeta_imagenes+\"empresas_mw_imp_temporal.pdf\")"
   ]
  },
  {
   "cell_type": "markdown",
   "metadata": {},
   "source": [
    "# Datos para optimización"
   ]
  },
  {
   "cell_type": "code",
   "execution_count": null,
   "metadata": {
    "scrolled": true
   },
   "outputs": [],
   "source": [
    "df_mercado.tail(24)[\"Precio Banda de regulación secundaria\"].to_csv(\"/home/alejandro/Documentos/Universidad/MII_2/TFM/Optimizacion/dia_preciobrs.csv\")"
   ]
  },
  {
   "cell_type": "code",
   "execution_count": null,
   "metadata": {},
   "outputs": [],
   "source": []
  },
  {
   "cell_type": "code",
   "execution_count": null,
   "metadata": {},
   "outputs": [],
   "source": [
    "import pandas as pd\n",
    "import fnmatch\n",
    "import os\n",
    "\n",
    "import funciones_lectura as f"
   ]
  },
  {
   "cell_type": "code",
   "execution_count": null,
   "metadata": {},
   "outputs": [],
   "source": [
    "carpeta_de_datos_mercado = (\"/home/alejandro/Documentos/\"\n",
    "    \"Universidad/MII_2/TFM/TrabajoConDatos/info_descargada/\"\n",
    "    \"informacion_mercado/\")\n",
    "carpeta_de_informacion = (\"/home/alejandro/Documentos/Universidad/\"\n",
    "    \"MII_2/TFM/TrabajoConDatos/informacion_procesada/\")"
   ]
  },
  {
   "cell_type": "code",
   "execution_count": null,
   "metadata": {},
   "outputs": [],
   "source": [
    "# Import data concerning the electricity market and store them\n",
    "# in a csv file.\n",
    "df_mercado = f.obtener_datos_mercado(carpeta_de_datos_mercado)\n",
    "df_mercado.to_csv(\n",
    "    path_or_buf=(carpeta_de_informacion+'tabla_datos_mercado.csv'),\n",
    "    sep=';',\n",
    ")\n",
    "print('La información del mercado se ha guardado en un archivo CSV.')"
   ]
  },
  {
   "cell_type": "code",
   "execution_count": null,
   "metadata": {},
   "outputs": [],
   "source": [
    "df_mercado.fillna()"
   ]
  }
 ],
 "metadata": {
  "kernelspec": {
   "display_name": "tfm",
   "language": "python",
   "name": "tfm"
  },
  "language_info": {
   "codemirror_mode": {
    "name": "ipython",
    "version": 3
   },
   "file_extension": ".py",
   "mimetype": "text/x-python",
   "name": "python",
   "nbconvert_exporter": "python",
   "pygments_lexer": "ipython3",
   "version": "3.7.3"
  }
 },
 "nbformat": 4,
 "nbformat_minor": 2
}
